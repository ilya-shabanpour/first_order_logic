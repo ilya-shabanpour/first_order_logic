{
 "cells": [
  {
   "cell_type": "markdown",
   "id": "b7f33a5f-6a9c-4cd5-bbe5-0fb69b8bb360",
   "metadata": {},
   "source": [
    "## Introduction to Prolog\n",
    "\n",
    "- **Prolog (Programming in Logic) is a programming language based on logical reasoning and formal logic.**\n",
    "  - Example: `likes(john, pizza).` (This fact states that John likes pizza.)\n",
    "- **It was developed in the 1970s and is widely used in areas such as artificial intelligence, natural language processing, and expert systems.**\n",
    "  - Example: Prolog is used to build expert systems that provide medical diagnosis based on symptoms and patient data.\n",
    "- **Unlike traditional programming languages that focus on algorithms and procedures, Prolog focuses on declarative programming, where you specify what you want rather than how to achieve it.**\n",
    "  - Example: `parent(john, jim).` (This fact specifies that John is the parent of Jim without providing the details of how it is determined.)\n",
    "- **Prolog allows you to define facts, rules, and queries to solve problems using logical inference.**\n",
    "  - Example: `sibling(X, Y) :- parent(Z, X), parent(Z, Y), X \\= Y.` (This rule defines that X and Y are siblings if they share the same parent and are not the same person.)\n",
    "- **It excels in tasks that involve knowledge representation, pattern matching, and rule-based reasoning.**\n",
    "  - Example: Prolog can be used to build a knowledge base of animals and their characteristics and answer queries about them, such as \"Is a cat a mammal?\" or \"What are the characteristics of birds?\"\n"
   ]
  },
  {
   "cell_type": "markdown",
   "id": "6a7fc506-436a-425a-af0c-4ea1c1b41480",
   "metadata": {
    "tags": []
   },
   "source": [
    "## Key Features of Prolog\n",
    "\n",
    "1. **Logical Programming**: Prolog is based on logical reasoning, allowing you to define facts and rules using first-order logic. It leverages the power of formal logic to solve problems.\n",
    "   - Example: `mortal(X) :- human(X).` (This rule states that X is mortal if X is a human.)\n",
    "2. **Declarative Syntax**: In Prolog, you declare what you want to achieve rather than specifying a step-by-step procedure. You describe relationships and constraints, and Prolog's inference engine finds solutions.\n",
    "   - Example: `ancestor(X, Y) :- parent(X, Y).` (This rule declares that X is an ancestor of Y if X is a parent of Y.)\n",
    "3. **Pattern Matching**: Prolog uses pattern matching extensively. It matches facts and rules with the given queries to find solutions. It searches for combinations that satisfy the specified.\n",
    "   - Example: `animal(X) :- mammal(X).` (This rule matches X as an animal if X is a mammal.)\n",
    "\n",
    "These examples illustrate how Prolog is used to represent knowledge, define relationships, and find solutions through logical inference and pattern matching.\n"
   ]
  },
  {
   "cell_type": "markdown",
   "id": "a69d18ba-0524-43b7-8999-b790b22c3b52",
   "metadata": {
    "tags": []
   },
   "source": [
    "## PySWIP: Python Interface for SWI-Prolog\n",
    "\n",
    "- PySWIP is a Python library that provides an interface to SWI-Prolog, allowing you to use Prolog within your Python programs.\n",
    "\n",
    "- SWI-Prolog is a widely used Prolog implementation that offers a powerful and efficient Prolog environment.\n",
    "\n",
    "- PySWIP enables seamless integration between Prolog and Python, leveraging the strengths of both languages.\n",
    "\n",
    "- With PySWIP, you can easily define Prolog rules, facts, and queries directly from your Python code.\n",
    "\n",
    "- PySWIP provides a bridge between Prolog and Python, allowing you to leverage the expressive power of Prolog for logical reasoning and knowledge representation, while harnessing the versatility and rich ecosystem of Python.\n",
    "\n",
    "- PySWIP is a valuable tool for tasks such as expert systems, natural language processing, constraint satisfaction problems, and more.\n"
   ]
  },
  {
   "cell_type": "markdown",
   "id": "245fd034-8152-49ee-b9d3-40740c3a4ee1",
   "metadata": {
    "tags": []
   },
   "source": [
    "## Installing pyswip"
   ]
  },
  {
   "cell_type": "markdown",
   "id": "b9bf3d75-e248-423a-8510-502d477ad75a",
   "metadata": {
    "tags": []
   },
   "source": [
    "- You can install pyswip, using the instructions from the follwing link:\n",
    "- https://pypi.org/project/pyswip/)`.\n",
    "\n"
   ]
  },
  {
   "cell_type": "code",
   "execution_count": 31,
   "id": "5b77d8ba-e333-40bf-8776-ff59d5502311",
   "metadata": {
    "tags": []
   },
   "outputs": [
    {
     "name": "stdout",
     "output_type": "stream",
     "text": [
      "Requirement already satisfied: pyswip in c:\\users\\rrast\\appdata\\local\\programs\\python\\python310\\lib\\site-packages (0.2.10)\n"
     ]
    }
   ],
   "source": [
    "!pip install pyswip"
   ]
  },
  {
   "cell_type": "markdown",
   "id": "b3ea864f-7fcf-479b-9763-0850c8f1c562",
   "metadata": {
    "tags": []
   },
   "source": [
    "### First Example"
   ]
  },
  {
   "cell_type": "markdown",
   "id": "525c869a-7dba-4166-96fc-8e15a6f9a8dc",
   "metadata": {
    "tags": []
   },
   "source": [
    "- In the first cell of the notebook, import the required libraries:"
   ]
  },
  {
   "cell_type": "code",
   "execution_count": 16,
   "id": "0cfb054d-b867-478f-b487-997f878c66d9",
   "metadata": {
    "tags": [],
    "ExecuteTime": {
     "end_time": "2024-01-19T17:41:01.391946900Z",
     "start_time": "2024-01-19T17:41:01.342155200Z"
    }
   },
   "outputs": [],
   "source": [
    "from pyswip import Prolog"
   ]
  },
  {
   "cell_type": "markdown",
   "id": "902d4667-75bd-47b9-b2fa-2629d13f4701",
   "metadata": {},
   "source": [
    "- Create an instance of the Prolog class:"
   ]
  },
  {
   "cell_type": "code",
   "execution_count": 17,
   "id": "8dd074a7-2bbf-4302-a7e8-b20c3c5a7f86",
   "metadata": {
    "tags": [],
    "ExecuteTime": {
     "end_time": "2024-01-19T17:41:03.868746300Z",
     "start_time": "2024-01-19T17:41:03.860433100Z"
    }
   },
   "outputs": [],
   "source": [
    "prolog = Prolog()"
   ]
  },
  {
   "cell_type": "markdown",
   "id": "6555ae8f-413a-4483-977d-3eb4b71de195",
   "metadata": {},
   "source": [
    "- You can define your Prolog rules and facts using the assertz method. For example, let's define a simple rule:"
   ]
  },
  {
   "cell_type": "code",
   "execution_count": 18,
   "id": "014344ed-548c-415a-8517-e7c64b2a8cb2",
   "metadata": {
    "tags": [],
    "ExecuteTime": {
     "end_time": "2024-01-19T17:41:06.826323Z",
     "start_time": "2024-01-19T17:41:06.818902500Z"
    }
   },
   "outputs": [],
   "source": [
    "prolog.assertz(\"parent(john, jim)\") # john is jim's parent\n",
    "prolog.assertz(\"parent(john, ann)\")\n",
    "prolog.assertz(\"parent(sue, jim)\") # sue is jim's parent\n",
    "prolog.assertz(\"parent(sue, ann)\")"
   ]
  },
  {
   "cell_type": "markdown",
   "id": "f83d1d98-f3b0-4cc2-8d47-80a80ae08dd1",
   "metadata": {},
   "source": [
    "- you can query Prolog using the query method. For example, let's query for all the parents:"
   ]
  },
  {
   "cell_type": "code",
   "execution_count": 4,
   "id": "0525ba82-2278-4a7f-81ed-ff10db4dadfd",
   "metadata": {
    "tags": []
   },
   "outputs": [
    {
     "data": {
      "text/plain": [
       "[{'X': 'john', 'Y': 'jim'},\n",
       " {'X': 'john', 'Y': 'ann'},\n",
       " {'X': 'sue', 'Y': 'jim'},\n",
       " {'X': 'sue', 'Y': 'ann'}]"
      ]
     },
     "execution_count": 4,
     "metadata": {},
     "output_type": "execute_result"
    }
   ],
   "source": [
    "list(prolog.query(\"parent(X, Y)\"))"
   ]
  },
  {
   "cell_type": "code",
   "execution_count": 5,
   "id": "08bb6968-39f2-4d52-afcd-8cf0f53ca370",
   "metadata": {
    "tags": []
   },
   "outputs": [
    {
     "data": {
      "text/plain": [
       "[{'Y': 'jim'}, {'Y': 'ann'}]"
      ]
     },
     "execution_count": 5,
     "metadata": {},
     "output_type": "execute_result"
    }
   ],
   "source": [
    "list(prolog.query(\"parent(john, Y)\"))"
   ]
  },
  {
   "cell_type": "code",
   "execution_count": 20,
   "id": "1d7cc22a-7930-4d10-828f-956b5cc2763d",
   "metadata": {
    "tags": [],
    "ExecuteTime": {
     "end_time": "2024-01-19T17:41:22.220781400Z",
     "start_time": "2024-01-19T17:41:22.201035100Z"
    }
   },
   "outputs": [
    {
     "data": {
      "text/plain": "[{}]"
     },
     "execution_count": 20,
     "metadata": {},
     "output_type": "execute_result"
    }
   ],
   "source": [
    "list(prolog.query(\"parent(john, ann)\"))# True"
   ]
  },
  {
   "cell_type": "code",
   "execution_count": 9,
   "id": "b6fb8346-5b33-45df-9d02-257c136c1cd9",
   "metadata": {
    "tags": []
   },
   "outputs": [
    {
     "data": {
      "text/plain": [
       "[{'X': 'john'}, {'X': 'sue'}]"
      ]
     },
     "execution_count": 9,
     "metadata": {},
     "output_type": "execute_result"
    }
   ],
   "source": [
    "list(prolog.query(\"parent(X, ann)\"))"
   ]
  },
  {
   "cell_type": "code",
   "execution_count": 8,
   "id": "6b27ca51-2fa3-43a6-84db-c7d845474d42",
   "metadata": {
    "tags": []
   },
   "outputs": [
    {
     "data": {
      "text/plain": [
       "[]"
      ]
     },
     "execution_count": 8,
     "metadata": {},
     "output_type": "execute_result"
    }
   ],
   "source": [
    "list(prolog.query(\"parent(jim, hesam)\")) # False"
   ]
  },
  {
   "cell_type": "markdown",
   "id": "e4787556-c4b3-49aa-96bb-174e278362b2",
   "metadata": {},
   "source": [
    "- To iterate over the query results, you can use a for loop. For example, to print all the parents:"
   ]
  },
  {
   "cell_type": "code",
   "execution_count": 10,
   "id": "e88e5793-9892-4a36-a96e-1cf38381c872",
   "metadata": {
    "tags": []
   },
   "outputs": [
    {
     "name": "stdout",
     "output_type": "stream",
     "text": [
      "john is the parent of jim\n",
      "john is the parent of ann\n",
      "sue is the parent of jim\n",
      "sue is the parent of ann\n"
     ]
    }
   ],
   "source": [
    "for solution in prolog.query(\"parent(X, Y)\"):\n",
    "    print(solution[\"X\"], \"is the parent of\", solution[\"Y\"])"
   ]
  },
  {
   "cell_type": "code",
   "execution_count": 11,
   "id": "f16be62a-68bd-44ec-a31c-63a3d46ba71b",
   "metadata": {},
   "outputs": [],
   "source": [
    "# Define some example facts about fruits\n",
    "prolog.assertz(\"fruit(apple)\")\n",
    "prolog.assertz(\"fruit(banana)\")\n",
    "prolog.assertz(\"fruit(orange)\")\n",
    "prolog.assertz(\"fruit(mango)\")\n",
    "\n",
    "# Define some example rules to associate properties with fruits\n",
    "prolog.assertz(\"property(apple, red)\")\n",
    "prolog.assertz(\"property(apple, round)\")\n",
    "prolog.assertz(\"property(banana, red)\")\n",
    "prolog.assertz(\"property(banana, round)\")\n",
    "prolog.assertz(\"property(orange, orange)\")\n",
    "prolog.assertz(\"property(orange, round)\")\n",
    "prolog.assertz(\"property(mango, yellow)\")\n",
    "prolog.assertz(\"property(mango, oblong)\")\n"
   ]
  },
  {
   "cell_type": "code",
   "execution_count": 12,
   "id": "921ad18c-5e0d-469a-8620-37a92626d412",
   "metadata": {
    "tags": []
   },
   "outputs": [],
   "source": [
    "properties = [\"red\", \"round\"]\n",
    "\n",
    "query = \"fruit(X), {}.\".format(\", \".join([\"property(X, {})\".format(prop) for prop in properties]))\n",
    "fruits = list(prolog.query(query))\n"
   ]
  },
  {
   "cell_type": "code",
   "execution_count": 13,
   "id": "cb69146c-b017-4529-81a4-3b4ad67205ec",
   "metadata": {
    "tags": []
   },
   "outputs": [
    {
     "name": "stdout",
     "output_type": "stream",
     "text": [
      "Fruits with properties: ['apple', 'banana']\n"
     ]
    }
   ],
   "source": [
    "print(\"Fruits with properties:\", [fruit[\"X\"] for fruit in fruits])\n"
   ]
  },
  {
   "cell_type": "code",
   "execution_count": 14,
   "id": "9dae457f-7e22-4334-b2cb-9c02d7bfaeef",
   "metadata": {},
   "outputs": [
    {
     "data": {
      "text/plain": [
       "[{'X': 'apple'}, {'X': 'banana'}, {'X': 'orange'}, {'X': 'mango'}]"
      ]
     },
     "execution_count": 14,
     "metadata": {},
     "output_type": "execute_result"
    }
   ],
   "source": [
    "list(prolog.query(\"fruit(X)\"))"
   ]
  },
  {
   "cell_type": "code",
   "execution_count": 15,
   "id": "13ba8e0c-7390-4844-b6fa-bba9c905fd86",
   "metadata": {
    "tags": []
   },
   "outputs": [
    {
     "data": {
      "text/plain": [
       "[{'X': 'apple', 'S': Variable(141), 'L': [Atom('301573'), Atom('90501')]},\n",
       " {'X': 'banana', 'S': Variable(141), 'L': [Atom('301573'), Atom('90501')]},\n",
       " {'X': 'orange', 'S': Variable(141), 'L': [Atom('486149'), Atom('90501')]},\n",
       " {'X': 'mango', 'S': Variable(76), 'L': [Atom('390277'), Atom('487557')]}]"
      ]
     },
     "execution_count": 15,
     "metadata": {},
     "output_type": "execute_result"
    }
   ],
   "source": [
    "list(prolog.query(\"fruit(X), findall(S, property(X, S), L)\"))"
   ]
  },
  {
   "cell_type": "code",
   "execution_count": 16,
   "id": "5a3c5a85-d6c2-43be-a749-2ed5befc10a4",
   "metadata": {
    "tags": []
   },
   "outputs": [
    {
     "data": {
      "text/plain": [
       "[{'X': 'apple',\n",
       "  'S': Variable(158),\n",
       "  'L': [Atom('301573'), Atom('90501')],\n",
       "  'R': [Atom('301573')],\n",
       "  'N': 1},\n",
       " {'X': 'banana',\n",
       "  'S': Variable(158),\n",
       "  'L': [Atom('301573'), Atom('90501')],\n",
       "  'R': [Atom('301573')],\n",
       "  'N': 1},\n",
       " {'X': 'orange',\n",
       "  'S': Variable(158),\n",
       "  'L': [Atom('486149'), Atom('90501')],\n",
       "  'R': [],\n",
       "  'N': 0},\n",
       " {'X': 'mango',\n",
       "  'S': Variable(76),\n",
       "  'L': [Atom('390277'), Atom('487557')],\n",
       "  'R': [],\n",
       "  'N': 0}]"
      ]
     },
     "execution_count": 16,
     "metadata": {},
     "output_type": "execute_result"
    }
   ],
   "source": [
    "# multiple query\n",
    "list(prolog.query(\"fruit(X), findall(S, property(X, S), L), intersection(L, {}, R), length(R, N)\".format(['red'])))"
   ]
  },
  {
   "cell_type": "code",
   "execution_count": 30,
   "id": "1cc74f58-1190-4519-9b94-6719167793dc",
   "metadata": {
    "tags": []
   },
   "outputs": [
    {
     "data": {
      "text/plain": [
       "[{'S': 'red'}, {'S': 'round'}]"
      ]
     },
     "execution_count": 30,
     "metadata": {},
     "output_type": "execute_result"
    }
   ],
   "source": [
    "# find all atoms related to another atom\n",
    "fruits = ['apple', 'orange', 'banana']\n",
    "list(prolog.query(\"property({}, S).\".format(fruits[0])))"
   ]
  },
  {
   "cell_type": "markdown",
   "id": "a6c74d95-b5a7-42c4-8c07-a41d39c40773",
   "metadata": {},
   "source": [
    "### learn more:\n",
    "- Tutorials in https://www.swi-prolog.org/\n",
    "- https://www.swi-prolog.org/pldoc/man?predicate=intersection/3\n",
    "- "
   ]
  },
  {
   "cell_type": "code",
   "execution_count": 13,
   "id": "227b9667-fad7-4707-820a-fcc752273c31",
   "metadata": {
    "ExecuteTime": {
     "end_time": "2024-01-17T20:22:17.009821800Z",
     "start_time": "2024-01-17T20:22:16.985868400Z"
    }
   },
   "outputs": [
    {
     "data": {
      "text/plain": "Destinations      Washington DC\ncountry           United States\nregion            North America\nClimate                  Varied\nBudget                     High\nActivity              Adventure\nDemographics               Solo\nDuration                   Long\nCuisine                 Western\nHistory                  Modern\nNatural Wonder        Mountains\nAccommodation            Luxury\nLanguage                English\nName: 37, dtype: object"
     },
     "execution_count": 13,
     "metadata": {},
     "output_type": "execute_result"
    }
   ],
   "source": [
    "import pandas as pd\n",
    "dest = pd.read_csv(\"Destinations.csv\")\n",
    "dest.at[37, \"Destinations\"] = \"Washington DC\"\n",
    "dest.iloc[37]"
   ]
  },
  {
   "cell_type": "code",
   "outputs": [
    {
     "data": {
      "text/plain": "     Destinations      country           region    Climate  Budget   Activity  \\\n0           Tokyo        Japan        East Asia  Temperate    High   Cultural   \n1          Ottawa       Canada    North America       Cold  Medium  Adventure   \n2     Mexico City       Mexico    North America  Temperate     Low   Cultural   \n3            Rome        Italy  Southern Europe  Temperate    High   Cultural   \n4        Brasilia       Brazil    South America   Tropical     Low  Adventure   \n..            ...          ...              ...        ...     ...        ...   \n97          Luxor        Egypt     North Africa     Desert     Low   Cultural   \n98          Aswan        Egypt     North Africa     Desert     Low   Cultural   \n99   Christchurch  New Zealand          Oceania  Temperate  Medium  Adventure   \n100    Queenstown  New Zealand          Oceania  Temperate    High  Adventure   \n101       Rotorua  New Zealand          Oceania  Temperate  Medium   Cultural   \n\n        Demographics Duration         Cuisine  History Natural Wonder  \\\n0               Solo     Long           Asian   Modern      Mountains   \n1    Family-friendly   Medium        European   Modern        Forests   \n2             Senior    Short  Latin American  Ancient      Mountains   \n3               Solo   Medium        European  Ancient        Beaches   \n4    Family-friendly     Long  Latin American   Modern        Beaches   \n..               ...      ...             ...      ...            ...   \n97              Solo    Short  Middle Eastern  Ancient         Rivers   \n98              Solo    Short  Middle Eastern  Ancient         Rivers   \n99   Family-friendly   Medium         Western   Modern      Cityscape   \n100             Solo    Short         Western   Modern      Mountains   \n101  Family-friendly    Short         Western   Modern     Geothermal   \n\n    Accommodation    Language  \n0          Luxury    Japanese  \n1       Mid-range     English  \n2          Budget     Spanish  \n3          Luxury     Italian  \n4          Budget  Portuguese  \n..            ...         ...  \n97         Budget      Arabic  \n98         Budget      Arabic  \n99      Mid-range     English  \n100        Luxury     English  \n101     Mid-range     English  \n\n[102 rows x 13 columns]",
      "text/html": "<div>\n<style scoped>\n    .dataframe tbody tr th:only-of-type {\n        vertical-align: middle;\n    }\n\n    .dataframe tbody tr th {\n        vertical-align: top;\n    }\n\n    .dataframe thead th {\n        text-align: right;\n    }\n</style>\n<table border=\"1\" class=\"dataframe\">\n  <thead>\n    <tr style=\"text-align: right;\">\n      <th></th>\n      <th>Destinations</th>\n      <th>country</th>\n      <th>region</th>\n      <th>Climate</th>\n      <th>Budget</th>\n      <th>Activity</th>\n      <th>Demographics</th>\n      <th>Duration</th>\n      <th>Cuisine</th>\n      <th>History</th>\n      <th>Natural Wonder</th>\n      <th>Accommodation</th>\n      <th>Language</th>\n    </tr>\n  </thead>\n  <tbody>\n    <tr>\n      <th>0</th>\n      <td>Tokyo</td>\n      <td>Japan</td>\n      <td>East Asia</td>\n      <td>Temperate</td>\n      <td>High</td>\n      <td>Cultural</td>\n      <td>Solo</td>\n      <td>Long</td>\n      <td>Asian</td>\n      <td>Modern</td>\n      <td>Mountains</td>\n      <td>Luxury</td>\n      <td>Japanese</td>\n    </tr>\n    <tr>\n      <th>1</th>\n      <td>Ottawa</td>\n      <td>Canada</td>\n      <td>North America</td>\n      <td>Cold</td>\n      <td>Medium</td>\n      <td>Adventure</td>\n      <td>Family-friendly</td>\n      <td>Medium</td>\n      <td>European</td>\n      <td>Modern</td>\n      <td>Forests</td>\n      <td>Mid-range</td>\n      <td>English</td>\n    </tr>\n    <tr>\n      <th>2</th>\n      <td>Mexico City</td>\n      <td>Mexico</td>\n      <td>North America</td>\n      <td>Temperate</td>\n      <td>Low</td>\n      <td>Cultural</td>\n      <td>Senior</td>\n      <td>Short</td>\n      <td>Latin American</td>\n      <td>Ancient</td>\n      <td>Mountains</td>\n      <td>Budget</td>\n      <td>Spanish</td>\n    </tr>\n    <tr>\n      <th>3</th>\n      <td>Rome</td>\n      <td>Italy</td>\n      <td>Southern Europe</td>\n      <td>Temperate</td>\n      <td>High</td>\n      <td>Cultural</td>\n      <td>Solo</td>\n      <td>Medium</td>\n      <td>European</td>\n      <td>Ancient</td>\n      <td>Beaches</td>\n      <td>Luxury</td>\n      <td>Italian</td>\n    </tr>\n    <tr>\n      <th>4</th>\n      <td>Brasilia</td>\n      <td>Brazil</td>\n      <td>South America</td>\n      <td>Tropical</td>\n      <td>Low</td>\n      <td>Adventure</td>\n      <td>Family-friendly</td>\n      <td>Long</td>\n      <td>Latin American</td>\n      <td>Modern</td>\n      <td>Beaches</td>\n      <td>Budget</td>\n      <td>Portuguese</td>\n    </tr>\n    <tr>\n      <th>...</th>\n      <td>...</td>\n      <td>...</td>\n      <td>...</td>\n      <td>...</td>\n      <td>...</td>\n      <td>...</td>\n      <td>...</td>\n      <td>...</td>\n      <td>...</td>\n      <td>...</td>\n      <td>...</td>\n      <td>...</td>\n      <td>...</td>\n    </tr>\n    <tr>\n      <th>97</th>\n      <td>Luxor</td>\n      <td>Egypt</td>\n      <td>North Africa</td>\n      <td>Desert</td>\n      <td>Low</td>\n      <td>Cultural</td>\n      <td>Solo</td>\n      <td>Short</td>\n      <td>Middle Eastern</td>\n      <td>Ancient</td>\n      <td>Rivers</td>\n      <td>Budget</td>\n      <td>Arabic</td>\n    </tr>\n    <tr>\n      <th>98</th>\n      <td>Aswan</td>\n      <td>Egypt</td>\n      <td>North Africa</td>\n      <td>Desert</td>\n      <td>Low</td>\n      <td>Cultural</td>\n      <td>Solo</td>\n      <td>Short</td>\n      <td>Middle Eastern</td>\n      <td>Ancient</td>\n      <td>Rivers</td>\n      <td>Budget</td>\n      <td>Arabic</td>\n    </tr>\n    <tr>\n      <th>99</th>\n      <td>Christchurch</td>\n      <td>New Zealand</td>\n      <td>Oceania</td>\n      <td>Temperate</td>\n      <td>Medium</td>\n      <td>Adventure</td>\n      <td>Family-friendly</td>\n      <td>Medium</td>\n      <td>Western</td>\n      <td>Modern</td>\n      <td>Cityscape</td>\n      <td>Mid-range</td>\n      <td>English</td>\n    </tr>\n    <tr>\n      <th>100</th>\n      <td>Queenstown</td>\n      <td>New Zealand</td>\n      <td>Oceania</td>\n      <td>Temperate</td>\n      <td>High</td>\n      <td>Adventure</td>\n      <td>Solo</td>\n      <td>Short</td>\n      <td>Western</td>\n      <td>Modern</td>\n      <td>Mountains</td>\n      <td>Luxury</td>\n      <td>English</td>\n    </tr>\n    <tr>\n      <th>101</th>\n      <td>Rotorua</td>\n      <td>New Zealand</td>\n      <td>Oceania</td>\n      <td>Temperate</td>\n      <td>Medium</td>\n      <td>Cultural</td>\n      <td>Family-friendly</td>\n      <td>Short</td>\n      <td>Western</td>\n      <td>Modern</td>\n      <td>Geothermal</td>\n      <td>Mid-range</td>\n      <td>English</td>\n    </tr>\n  </tbody>\n</table>\n<p>102 rows × 13 columns</p>\n</div>"
     },
     "execution_count": 14,
     "metadata": {},
     "output_type": "execute_result"
    }
   ],
   "source": [
    "import pandas as pd\n",
    "destinations = pd.read_csv(\"Destinations.csv\")\n",
    "dest\n",
    "        "
   ],
   "metadata": {
    "collapsed": false,
    "ExecuteTime": {
     "end_time": "2024-01-17T20:43:49.592686100Z",
     "start_time": "2024-01-17T20:43:49.553035200Z"
    }
   },
   "id": "59341ebe24756121",
   "execution_count": 14
  },
  {
   "cell_type": "code",
   "outputs": [],
   "source": [
    "\n",
    "prolog = Prolog()\n",
    "destinations = pd.read_csv(\"Destinations.csv\")\n",
    "\n",
    "prolog.retractall(\"destination(_, _, _, _, _, _, _, _, _, _, _, _, _)\")\n",
    "arg = \"destination(\"\n",
    "\n",
    "for dest in destinations.iterrows():\n",
    "    for prop in range(13):\n",
    "        if prop == 12:\n",
    "            arg += dest[1].iloc[prop]\n",
    "            continue\n",
    "        arg += dest[1].iloc[prop] + \", \"\n",
    "    arg += \")\"\n",
    "    prolog.assertz(arg)\n",
    "    \n",
    "prolog.query(\"destination(X, Y\")"
   ],
   "metadata": {
    "collapsed": false,
    "ExecuteTime": {
     "start_time": "2024-01-17T19:54:04.922512300Z"
    }
   },
   "id": "e61bab5e21282c03",
   "execution_count": null
  },
  {
   "cell_type": "code",
   "outputs": [
    {
     "name": "stdout",
     "output_type": "stream",
     "text": [
      "5\n"
     ]
    }
   ],
   "source": [
    "str = \"hello world abde\"\n",
    "print(str.find(\" \"))\n"
   ],
   "metadata": {
    "collapsed": false,
    "ExecuteTime": {
     "end_time": "2024-01-17T20:10:53.547783400Z",
     "start_time": "2024-01-17T20:10:53.516008600Z"
    }
   },
   "id": "f4f7c16414c39b0c",
   "execution_count": 2
  },
  {
   "cell_type": "code",
   "outputs": [],
   "source": [],
   "metadata": {
    "collapsed": false
   },
   "id": "bf2a3eb047bf96bb"
  }
 ],
 "metadata": {
  "kernelspec": {
   "display_name": "Python 3 (ipykernel)",
   "language": "python",
   "name": "python3"
  },
  "language_info": {
   "codemirror_mode": {
    "name": "ipython",
    "version": 3
   },
   "file_extension": ".py",
   "mimetype": "text/x-python",
   "name": "python",
   "nbconvert_exporter": "python",
   "pygments_lexer": "ipython3",
   "version": "3.10.9"
  },
  "toc-showmarkdowntxt": false
 },
 "nbformat": 4,
 "nbformat_minor": 5
}
